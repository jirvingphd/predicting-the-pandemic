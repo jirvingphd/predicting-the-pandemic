{
 "cells": [
  {
   "cell_type": "markdown",
   "id": "21024356",
   "metadata": {},
   "source": [
    "# Current App 12/31/21"
   ]
  },
  {
   "cell_type": "code",
   "execution_count": null,
   "id": "a0d4c182",
   "metadata": {
    "ExecuteTime": {
     "end_time": "2021-12-31T21:16:34.999697Z",
     "start_time": "2021-12-31T21:16:34.990575Z"
    }
   },
   "outputs": [],
   "source": [
    "# !pip install fsds"
   ]
  },
  {
   "cell_type": "markdown",
   "id": "797469df",
   "metadata": {
    "ExecuteTime": {
     "end_time": "2021-12-31T21:19:20.607789Z",
     "start_time": "2021-12-31T21:19:18.694402Z"
    }
   },
   "source": [
    "```python\n",
    "import streamlit as st\n",
    "\n",
    "from fsds.imports import *\n",
    "import pandas as pd\n",
    "\n",
    "import os,glob,sys,joblib,zipfile,json\n",
    "import datetime as dt\n",
    "import re\n",
    "\n",
    "import plotly.express as px\n",
    "import plotly.graph_objects as go\n",
    "import plotly.io as pio\n",
    "pio.templates.default = \"plotly_dark\"\n",
    "\n",
    "plt.rcParams['figure.figsize'] = (12,6)\n",
    "pd.set_option('display.max_columns',0)\n",
    "# fs.check_package_versions(['statsmodels'],fpath=True)\n",
    "\n",
    "\n",
    "\n",
    "### FORECAST SPECIFIC FUNCTIONS\n",
    "import statsmodels.api as sms\n",
    "import statsmodels.tsa.api as tsa\n",
    "from pmdarima import auto_arima\n",
    "import project_functions as fn\n",
    "# from fsds import pandemic as fn\n",
    "import os,json,glob\n",
    "\n",
    "with open(\"FILE_DIRECTORY.json\") as f:\n",
    "    FPATHS = json.load(f)\n",
    "```"
   ]
  },
  {
   "cell_type": "markdown",
   "id": "20495ac7",
   "metadata": {
    "ExecuteTime": {
     "end_time": "2021-12-31T21:16:44.263646Z",
     "start_time": "2021-12-31T21:16:35.199529Z"
    }
   },
   "source": [
    "```python\n",
    "### TItle\n",
    "st.markdown('# Planning for the Pandemic')\n",
    "st.markdown(\"\"\"\n",
    "- James M. Irving, PhD.\n",
    "    - james.irving.phd@gmail.com\n",
    "    - [LinkedIn](https://www.linkedin.com/in/james-irving-4246b571/)\n",
    "    - [GitHub Repo](https://github.com/jirvingphd/predicting-the-pandemic)\n",
    "\n",
    "___\"\"\")\n",
    "\n",
    "st.markdown(\"\"\"## ***Goal***\n",
    "- Covid-19 and the various strains that have since emerged has upended modern life and fundamentally changed how we function as a society.\n",
    "- Part of what has made it difficult to tackle the pandemic is the differences between states, state laws/policies, and a lack of public understanding about the predictability of the surges in cases. \n",
    "- The goal of this dashboard is to find the provide easy access state-level coronavirus and hospital capacity statistics.\n",
    "    - Furthermore, I wanted to provide on-demand timeseries forecasts into the near future for all/any of these statistics.\n",
    "\"\"\")\n",
    "\n",
    "\n",
    "\n",
    "st.markdown('## ***The Data***')\n",
    "st.markdown('- This dashboard uses data from several APIs and kaggle datasets. To fetch the lateast data, click the button below.')\n",
    "WORKFLOW_BUTTON = st.button(\"Fetch new data.\",)\n",
    "\n",
    "st.markdown('> Note: it can take up to 2 minutes to download the data.')\n",
    "\n",
    "st.markdown(\"\"\"### Sources\n",
    "- Coronavirus Data by State- # of Cases/Deaths by State\n",
    "    - [Kaggle Dataset: \"COVID-19 data from John Hopkins University\"](https://www.kaggle.com/antgoldbloom/covid19-data-from-john-hopkins-university) \n",
    "    - Repackaged version of the data from the [official Johns Hopkins Repository](https://github.com/CSSEGISandData/COVID-19)\n",
    "- Hospital Hospital & ICU Occupancy Data:\n",
    "    - [HealthData.gob Api: \"COVID-19 Reported Patient Impact and Hospital Capacity by State Timeseries API\"](https://healthdata.gov/Hospital/COVID-19-Reported-Patient-Impact-and-Hospital-Capa/g62h-syeh)\n",
    "\"\"\")\n",
    "# RUN_FULL_WORKFLOW=False\n",
    "```"
   ]
  },
  {
   "cell_type": "markdown",
   "id": "3cd6b564",
   "metadata": {
    "ExecuteTime": {
     "end_time": "2021-12-31T21:16:44.263646Z",
     "start_time": "2021-12-31T21:16:35.199529Z"
    }
   },
   "source": [
    "```python\n",
    "def load_data(WORKFLOW_BUTTON=False):\n",
    "    if WORKFLOW_BUTTON == True:\n",
    "        df_states,STATES = fn.data_acquisition.FULL_WORKFLOW(merge_hospital_data=True)\n",
    "        ## renaming since merge_hofspital_data=True\n",
    "    #     DF = df_states.copy()\n",
    "    #     print(STATES.keys())    \n",
    "        \n",
    "    else:\n",
    "        # print(f\"[i] Using previously downloaded data...\")\n",
    "        # df_states = pd.read_pickle(FPATHS['fpath_final_df_pickle'])\n",
    "        df_states =  pd.read_csv(FPATHS['fpath_final_df_csv'],compression='gzip',parse_dates=['Date'],\n",
    "                    index_col=[0,1])\n",
    "\n",
    "    #     with open(FPATHS['fpath_final_states']) as f:\n",
    "        STATES = joblib.load(FPATHS['fpath_final_states'])\n",
    "    return df_states,STATES\n",
    "\n",
    "## load data and save options\n",
    "df, STATES = load_data(WORKFLOW_BUTTON)\n",
    "options_stats= df.drop(['Deaths','Cases'],axis=1).columns.tolist()\n",
    "\n",
    "st.markdown(\"___\")\n",
    "st.markdown(\"## ***Overview - Comparing All States***\")\n",
    "## plot state map\n",
    "n_days = st.slider(\"PAST N # OF DAYS\",value=30,min_value=7,max_value=180)\n",
    "col = st.selectbox(\"Which statistic to map?\", options_stats)\n",
    "\n",
    "# calc dates\n",
    "today = dt.date.today()\n",
    "end_state = today\n",
    "start_date = pd.Timestamp(today) - pd.Timedelta(f'{str(n_days)} days')\n",
    "\n",
    "## get map\n",
    "map = fn.app_functions.plot_map_columns(df,col=col, last_n_days=n_days,\n",
    "plot_map=False,return_map=True)\n",
    "\n",
    "# get just df\n",
    "df_rank= fn.app_functions.plot_map_columns(df,col=col, last_n_days=n_days,\n",
    "plot_map=False,return_map=False)\n",
    "\n",
    "# show map\n",
    "st.plotly_chart(map)\n",
    "\n",
    "### Plot same stat for different states\n",
    "st.markdown(\"___\")\n",
    "st.markdown('## ***Comparing Selected States***')\n",
    "\n",
    "## select states and stats\n",
    "stat_to_compare = st.multiselect(\"Which statistic to compare?\",options_stats,\n",
    "default=[\"Cases-New\"])\n",
    "states_to_compare = st.multiselect(\"Which states to compare?\",list(STATES.keys()),\n",
    "default=[\"NY\",'MD','FL','CA','TX'])\n",
    "\n",
    "## get and show plot\n",
    "plot_df = fn.app_functions.get_states_to_plot(df,state_list=states_to_compare,\n",
    "            plot_cols=stat_to_compare,\n",
    "                            agg_func= 'mean',\n",
    "                  rename_cols=True,fill_method='interpolate',\n",
    "                  remove_outliers=False, state_first=True,\n",
    "                  threshold_type=['0','%'], diagnose=False)\n",
    "st.plotly_chart(px.line(plot_df))\n",
    "\n",
    "\n",
    "st.markdown(\"___\")\n",
    "\n",
    "# ############################## PRIOR TO  09/21 ###########################\n",
    "st.markdown('## ***Timeseries Forecasting by State/Statistic***')\n",
    "\n",
    "\n",
    "default_model_start = today - pd.to_timedelta('365 days')\n",
    "state_name = st.selectbox('Select State', list(STATES.keys()))\n",
    "col = st.selectbox(\"Select statistic\",options_stats)\n",
    "start_date = st.date_input('Start Date for Training Data',\n",
    " value=default_model_start)#pd.to_datetime('06-2020'))\n",
    "\n",
    "\n",
    "df_state = STATES[state_name].loc[start_date:].copy()\n",
    "\n",
    "# # col = 'Cases-New'\n",
    "ts = df_state[col].copy()\n",
    "ax = ts.plot(title=f\"{state_name}-{col}\");\n",
    "ax.set_ylabel(col)\n",
    "\n",
    "\n",
    "\n",
    "st.pyplot(ax.get_figure())# plt.show()\n",
    "\n",
    "\n",
    "st.markdown(\"\"\"> **Click \"`Run model`\" below to start the modeling process for the selected state and statistic.**\n",
    "-  [!] Warning: the gridsearch process may take several minutes. Try selecting a more recent start date to increase performance.\"\"\")\n",
    "\n",
    "\n",
    "model_q = st.button('Run model.', \n",
    "on_click= fn.modeling.make_timeseries_model,args=(STATES,state_name,col))\n",
    "\n",
    "\n",
    "\n",
    "# st.button('Hit me')\n",
    "# st.checkbox('Check me out')\n",
    "# st.radio('Radio', [1,2,3])\n",
    "# st.multiselect('Multiselect', [1,2,3])\n",
    "# st.slider('Slide me', min_value=0, max_value=10)\n",
    "# st.select_slider('Slide to select', options=[1,'2'])\n",
    "# st.text_input('Enter some text')\n",
    "# st.number_input('Enter a number')\n",
    "# st.text_area('Area for textual entry')\n",
    "# st.date_input('Date input')\n",
    "# st.time_input('Time entry')\n",
    "# st.file_uploader('File uploader')\n",
    "# st.color_picker('Pick a color')\n",
    "\n",
    "```"
   ]
  },
  {
   "cell_type": "markdown",
   "id": "c0fe0bfa",
   "metadata": {},
   "source": [
    "# Test Workflow"
   ]
  },
  {
   "cell_type": "code",
   "execution_count": 9,
   "id": "d3e7cc79",
   "metadata": {
    "ExecuteTime": {
     "end_time": "2021-12-31T21:27:11.116414Z",
     "start_time": "2021-12-31T21:27:11.089746Z"
    }
   },
   "outputs": [],
   "source": [
    "import streamlit as st\n",
    "\n",
    "from fsds.imports import *\n",
    "import pandas as pd\n",
    "\n",
    "import os,glob,sys,joblib,zipfile,json\n",
    "import datetime as dt\n",
    "import re\n",
    "\n",
    "import plotly.express as px\n",
    "import plotly.graph_objects as go\n",
    "import plotly.io as pio\n",
    "pio.templates.default = \"plotly_dark\"\n",
    "\n",
    "plt.rcParams['figure.figsize'] = (12,6)\n",
    "pd.set_option('display.max_columns',0)\n",
    "# fs.check_package_versions(['statsmodels'],fpath=True)\n",
    "\n",
    "\n",
    "\n",
    "### FORECAST SPECIFIC FUNCTIONS\n",
    "import statsmodels.api as sms\n",
    "import statsmodels.tsa.api as tsa\n",
    "from pmdarima import auto_arima\n",
    "import project_functions as fn\n",
    "# from fsds import pandemic as fn\n",
    "import os,json,glob\n",
    "\n",
    "with open(\"FILE_DIRECTORY.json\") as f:\n",
    "    FPATHS = json.load(f)"
   ]
  },
  {
   "cell_type": "code",
   "execution_count": 10,
   "id": "7c308ba8",
   "metadata": {
    "ExecuteTime": {
     "end_time": "2021-12-31T21:27:12.449867Z",
     "start_time": "2021-12-31T21:27:12.442767Z"
    }
   },
   "outputs": [],
   "source": [
    "def load_data(WORKFLOW_BUTTON=False):\n",
    "    if WORKFLOW_BUTTON == True:\n",
    "        df_states,STATES = fn.data_acquisition.FULL_WORKFLOW(merge_hospital_data=True)\n",
    "        ## renaming since merge_hofspital_data=True\n",
    "    #     DF = df_states.copy()\n",
    "    #     print(STATES.keys())    \n",
    "        \n",
    "    else:\n",
    "        # print(f\"[i] Using previously downloaded data...\")\n",
    "        # df_states = pd.read_pickle(FPATHS['fpath_final_df_pickle'])\n",
    "        df_states =  pd.read_csv(FPATHS['fpath_final_df_csv'],compression='gzip',parse_dates=['Date'],\n",
    "                    index_col=[0,1])\n",
    "\n",
    "    #     with open(FPATHS['fpath_final_states']) as f:\n",
    "        STATES = joblib.load(FPATHS['fpath_final_states'])\n",
    "    return df_states,STATES"
   ]
  },
  {
   "cell_type": "code",
   "execution_count": 11,
   "id": "5f53582a",
   "metadata": {
    "ExecuteTime": {
     "end_time": "2021-12-31T21:28:07.453298Z",
     "start_time": "2021-12-31T21:27:15.970848Z"
    }
   },
   "outputs": [
    {
     "name": "stdout",
     "output_type": "stream",
     "text": [
      "========= RUNNING FULL WORKFLOW =========\n",
      "[i] Retrieving kaggle dataset: antgoldbloom/covid19-data-from-john-hopkins-university\n",
      "- Loading data from RAW_us_confirmed_cases.csv\n",
      "- Loading data from RAW_us_deaths.csv\n",
      "[i] Retrieving hospital data from https://healthdata.gov/resource/g62h-syeh.csv\n",
      "[i] Workflow completed.\n",
      "\tRun time=0:00:50.880413 sec.\n",
      "[i]The final files of note:\n",
      "\t./data/combined_us_states_full_data.csv\n",
      "\t./data/STATE_DICT.joblib\n",
      "[i] Final joined data (DF) saved as ./data/FINAL_STATES.csv.gz\n",
      "[i] Final joined data (DF) saved as ./data/FINAL_STATES.pickle\n"
     ]
    }
   ],
   "source": [
    "WORKFLOW_BUTTON=True\n",
    "## load data and save options\n",
    "df, STATES = load_data(WORKFLOW_BUTTON)\n",
    "options_stats= df.drop(['Deaths','Cases'],axis=1).columns.tolist()"
   ]
  },
  {
   "cell_type": "code",
   "execution_count": 14,
   "id": "cee3fb4f",
   "metadata": {
    "ExecuteTime": {
     "end_time": "2021-12-31T21:28:38.394906Z",
     "start_time": "2021-12-31T21:28:38.384847Z"
    }
   },
   "outputs": [
    {
     "data": {
      "text/plain": [
       "dict_keys(['AK', 'AL', 'AR', 'AZ', 'CA', 'CO', 'CT', 'DC', 'DE', 'FL', 'GA', 'HI', 'IA', 'ID', 'IL', 'IN', 'KS', 'KY', 'LA', 'MA', 'MD', 'ME', 'MI', 'MN', 'MO', 'MS', 'MT', 'NC', 'ND', 'NE', 'NH', 'NJ', 'NM', 'NV', 'NY', 'OH', 'OK', 'OR', 'PA', 'PR', 'RI', 'SC', 'SD', 'TN', 'TX', 'UT', 'VA', 'VT', 'WA', 'WI', 'WV', 'WY'])"
      ]
     },
     "execution_count": 14,
     "metadata": {},
     "output_type": "execute_result"
    }
   ],
   "source": [
    "STATES.keys()"
   ]
  },
  {
   "cell_type": "code",
   "execution_count": 15,
   "id": "47f8a586",
   "metadata": {
    "ExecuteTime": {
     "end_time": "2021-12-31T21:28:38.580530Z",
     "start_time": "2021-12-31T21:28:38.551178Z"
    }
   },
   "outputs": [
    {
     "data": {
      "text/html": [
       "<div>\n",
       "<style scoped>\n",
       "    .dataframe tbody tr th:only-of-type {\n",
       "        vertical-align: middle;\n",
       "    }\n",
       "\n",
       "    .dataframe tbody tr th {\n",
       "        vertical-align: top;\n",
       "    }\n",
       "\n",
       "    .dataframe thead th {\n",
       "        text-align: right;\n",
       "    }\n",
       "</style>\n",
       "<table border=\"1\" class=\"dataframe\">\n",
       "  <thead>\n",
       "    <tr style=\"text-align: right;\">\n",
       "      <th></th>\n",
       "      <th></th>\n",
       "      <th>Deaths</th>\n",
       "      <th>Cases</th>\n",
       "      <th>Hospitalized Currently</th>\n",
       "      <th>ICU-Covid Currently</th>\n",
       "      <th>Deaths-New</th>\n",
       "      <th>Cases-New</th>\n",
       "    </tr>\n",
       "    <tr>\n",
       "      <th></th>\n",
       "      <th>Date</th>\n",
       "      <th></th>\n",
       "      <th></th>\n",
       "      <th></th>\n",
       "      <th></th>\n",
       "      <th></th>\n",
       "      <th></th>\n",
       "    </tr>\n",
       "  </thead>\n",
       "  <tbody>\n",
       "    <tr>\n",
       "      <th rowspan=\"5\" valign=\"top\">AK</th>\n",
       "      <th>2020-03-23</th>\n",
       "      <td>0</td>\n",
       "      <td>39</td>\n",
       "      <td>0.0</td>\n",
       "      <td>0.0</td>\n",
       "      <td>0.0</td>\n",
       "      <td>0.0</td>\n",
       "    </tr>\n",
       "    <tr>\n",
       "      <th>2020-03-24</th>\n",
       "      <td>0</td>\n",
       "      <td>43</td>\n",
       "      <td>0.0</td>\n",
       "      <td>0.0</td>\n",
       "      <td>0.0</td>\n",
       "      <td>4.0</td>\n",
       "    </tr>\n",
       "    <tr>\n",
       "      <th>2020-03-25</th>\n",
       "      <td>1</td>\n",
       "      <td>50</td>\n",
       "      <td>0.0</td>\n",
       "      <td>0.0</td>\n",
       "      <td>1.0</td>\n",
       "      <td>7.0</td>\n",
       "    </tr>\n",
       "    <tr>\n",
       "      <th>2020-03-26</th>\n",
       "      <td>1</td>\n",
       "      <td>64</td>\n",
       "      <td>0.0</td>\n",
       "      <td>0.0</td>\n",
       "      <td>0.0</td>\n",
       "      <td>14.0</td>\n",
       "    </tr>\n",
       "    <tr>\n",
       "      <th>2020-03-27</th>\n",
       "      <td>1</td>\n",
       "      <td>75</td>\n",
       "      <td>0.0</td>\n",
       "      <td>0.0</td>\n",
       "      <td>0.0</td>\n",
       "      <td>11.0</td>\n",
       "    </tr>\n",
       "    <tr>\n",
       "      <th>...</th>\n",
       "      <th>...</th>\n",
       "      <td>...</td>\n",
       "      <td>...</td>\n",
       "      <td>...</td>\n",
       "      <td>...</td>\n",
       "      <td>...</td>\n",
       "      <td>...</td>\n",
       "    </tr>\n",
       "    <tr>\n",
       "      <th rowspan=\"5\" valign=\"top\">WY</th>\n",
       "      <th>2021-12-26</th>\n",
       "      <td>1526</td>\n",
       "      <td>114242</td>\n",
       "      <td>63.0</td>\n",
       "      <td>28.0</td>\n",
       "      <td>0.0</td>\n",
       "      <td>0.0</td>\n",
       "    </tr>\n",
       "    <tr>\n",
       "      <th>2021-12-27</th>\n",
       "      <td>1526</td>\n",
       "      <td>114624</td>\n",
       "      <td>64.0</td>\n",
       "      <td>26.0</td>\n",
       "      <td>0.0</td>\n",
       "      <td>382.0</td>\n",
       "    </tr>\n",
       "    <tr>\n",
       "      <th>2021-12-28</th>\n",
       "      <td>1526</td>\n",
       "      <td>114917</td>\n",
       "      <td>69.0</td>\n",
       "      <td>21.0</td>\n",
       "      <td>0.0</td>\n",
       "      <td>293.0</td>\n",
       "    </tr>\n",
       "    <tr>\n",
       "      <th>2021-12-29</th>\n",
       "      <td>1526</td>\n",
       "      <td>115242</td>\n",
       "      <td>74.0</td>\n",
       "      <td>25.0</td>\n",
       "      <td>0.0</td>\n",
       "      <td>325.0</td>\n",
       "    </tr>\n",
       "    <tr>\n",
       "      <th>2021-12-30</th>\n",
       "      <td>1526</td>\n",
       "      <td>115638</td>\n",
       "      <td>65.0</td>\n",
       "      <td>24.0</td>\n",
       "      <td>0.0</td>\n",
       "      <td>396.0</td>\n",
       "    </tr>\n",
       "  </tbody>\n",
       "</table>\n",
       "<p>34944 rows × 6 columns</p>\n",
       "</div>"
      ],
      "text/plain": [
       "               Deaths   Cases  Hospitalized Currently  ICU-Covid Currently  Deaths-New  Cases-New\n",
       "   Date                                                                                          \n",
       "AK 2020-03-23       0      39                     0.0                  0.0         0.0        0.0\n",
       "   2020-03-24       0      43                     0.0                  0.0         0.0        4.0\n",
       "   2020-03-25       1      50                     0.0                  0.0         1.0        7.0\n",
       "   2020-03-26       1      64                     0.0                  0.0         0.0       14.0\n",
       "   2020-03-27       1      75                     0.0                  0.0         0.0       11.0\n",
       "...               ...     ...                     ...                  ...         ...        ...\n",
       "WY 2021-12-26    1526  114242                    63.0                 28.0         0.0        0.0\n",
       "   2021-12-27    1526  114624                    64.0                 26.0         0.0      382.0\n",
       "   2021-12-28    1526  114917                    69.0                 21.0         0.0      293.0\n",
       "   2021-12-29    1526  115242                    74.0                 25.0         0.0      325.0\n",
       "   2021-12-30    1526  115638                    65.0                 24.0         0.0      396.0\n",
       "\n",
       "[34944 rows x 6 columns]"
      ]
     },
     "execution_count": 15,
     "metadata": {},
     "output_type": "execute_result"
    }
   ],
   "source": [
    "df"
   ]
  },
  {
   "cell_type": "markdown",
   "id": "baf98a45",
   "metadata": {},
   "source": [
    "### NOTES:\n",
    "- Will want to change how the start date is determined. Instead of creating `today`, get the last date from one of the states\n",
    "\n",
    "```python\n",
    "## CURRENT WAY\n",
    "# calc dates\n",
    "today = dt.date.today()\n",
    "end_state = today\n",
    "start_date = pd.Timestamp(today) - pd.Timedelta(f'{str(n_days)} days')\n",
    "\n",
    "\n",
    "## PROPOSED NEW WAY\n",
    "latest_date = df.droplevel(0).index.max()\n",
    "end_date = latest_date\n",
    "start_date = pd.Timestamp(latest_date) - pd.Timedelta(f'{str(n_days)} days')\n",
    "```"
   ]
  },
  {
   "cell_type": "code",
   "execution_count": 17,
   "id": "9e61f550",
   "metadata": {
    "ExecuteTime": {
     "end_time": "2021-12-31T21:28:54.535305Z",
     "start_time": "2021-12-31T21:28:54.523803Z"
    }
   },
   "outputs": [
    {
     "data": {
      "text/plain": [
       "Timestamp('2021-12-30 00:00:00')"
      ]
     },
     "execution_count": 17,
     "metadata": {},
     "output_type": "execute_result"
    }
   ],
   "source": [
    "df.loc[\"MD\"].index[-1]"
   ]
  },
  {
   "cell_type": "code",
   "execution_count": 21,
   "id": "da9e7c06",
   "metadata": {
    "ExecuteTime": {
     "end_time": "2021-12-31T21:30:18.233803Z",
     "start_time": "2021-12-31T21:30:18.219378Z"
    }
   },
   "outputs": [
    {
     "data": {
      "text/plain": [
       "Timestamp('2021-12-30 00:00:00')"
      ]
     },
     "execution_count": 21,
     "metadata": {},
     "output_type": "execute_result"
    }
   ],
   "source": [
    "df.droplevel(0).index.max()"
   ]
  },
  {
   "cell_type": "code",
   "execution_count": null,
   "id": "b3f0cc7f",
   "metadata": {},
   "outputs": [],
   "source": [
    "\n",
    "# calc dates\n",
    "today = dt.date.today()\n",
    "end_state = today\n",
    "start_date = pd.Timestamp(today) - pd.Timedelta(f'{str(n_days)} days')"
   ]
  }
 ],
 "metadata": {
  "kernelspec": {
   "display_name": "Python (learn-env)",
   "language": "python",
   "name": "learn-env"
  },
  "language_info": {
   "codemirror_mode": {
    "name": "ipython",
    "version": 3
   },
   "file_extension": ".py",
   "mimetype": "text/x-python",
   "name": "python",
   "nbconvert_exporter": "python",
   "pygments_lexer": "ipython3",
   "version": "3.8.5"
  },
  "toc": {
   "base_numbering": 1,
   "nav_menu": {},
   "number_sections": true,
   "sideBar": true,
   "skip_h1_title": false,
   "title_cell": "Table of Contents",
   "title_sidebar": "Contents",
   "toc_cell": false,
   "toc_position": {},
   "toc_section_display": true,
   "toc_window_display": true
  }
 },
 "nbformat": 4,
 "nbformat_minor": 5
}
