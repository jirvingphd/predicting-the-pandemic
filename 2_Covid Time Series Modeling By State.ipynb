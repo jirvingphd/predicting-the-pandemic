{
 "cells": [
  {
   "cell_type": "markdown",
   "metadata": {
    "id": "A-DATSDPqVQr"
   },
   "source": [
    "# Coronavirus/COVID-19 Timseries Forecasting"
   ]
  },
  {
   "cell_type": "markdown",
   "metadata": {
    "id": "A-DATSDPqVQr"
   },
   "source": [
    "- ~~[GitHub Repo](https://github.com/jirvingphd/playing-with-coronavirus-data)~~\n",
    "- James M. Irivng, Ph.D.\n",
    "- james.irving.phd@gmail.com"
   ]
  },
  {
   "cell_type": "markdown",
   "metadata": {},
   "source": [
    "> **~~NOTE: DATA ACQUISITION IS BEING RE-WORKED IN \"Exploring Options for Replacing Covid Tracking Project Data_08-2021.ipnynb\"~~** -08/12/21"
   ]
  },
  {
   "cell_type": "code",
   "execution_count": null,
   "metadata": {
    "ExecuteTime": {
     "end_time": "2021-09-09T14:59:53.267489Z",
     "start_time": "2021-09-09T14:59:53.264898Z"
    }
   },
   "outputs": [],
   "source": [
    "RUN_FULL_WORKFLOW=True"
   ]
  },
  {
   "cell_type": "code",
   "execution_count": null,
   "metadata": {
    "ExecuteTime": {
     "end_time": "2021-09-09T14:59:53.277721Z",
     "start_time": "2021-09-09T14:59:53.269642Z"
    }
   },
   "outputs": [],
   "source": [
    "import sys\n",
    "'google' in sys.modules"
   ]
  },
  {
   "cell_type": "markdown",
   "metadata": {
    "toc": true
   },
   "source": [
    "<h1>Table of Contents<span class=\"tocSkip\"></span></h1>\n",
    "<div class=\"toc\"><ul class=\"toc-item\"><li><span><a href=\"#Coronavirus/COVID-19-Timseries-Forecasting\" data-toc-modified-id=\"Coronavirus/COVID-19-Timseries-Forecasting-1\"><span class=\"toc-item-num\">1&nbsp;&nbsp;</span>Coronavirus/COVID-19 Timseries Forecasting</a></span></li><li><span><a href=\"#Business-Problem\" data-toc-modified-id=\"Business-Problem-2\"><span class=\"toc-item-num\">2&nbsp;&nbsp;</span>Business Problem</a></span><ul class=\"toc-item\"><li><ul class=\"toc-item\"><li><span><a href=\"#Goal\" data-toc-modified-id=\"Goal-2.0.1\"><span class=\"toc-item-num\">2.0.1&nbsp;&nbsp;</span>Goal</a></span></li><li><span><a href=\"#Methodology\" data-toc-modified-id=\"Methodology-2.0.2\"><span class=\"toc-item-num\">2.0.2&nbsp;&nbsp;</span>Methodology</a></span></li></ul></li></ul></li><li><span><a href=\"#OBTAIN\" data-toc-modified-id=\"OBTAIN-3\"><span class=\"toc-item-num\">3&nbsp;&nbsp;</span>OBTAIN</a></span><ul class=\"toc-item\"><li><span><a href=\"#Imports\" data-toc-modified-id=\"Imports-3.1\"><span class=\"toc-item-num\">3.1&nbsp;&nbsp;</span>Imports</a></span></li><li><span><a href=\"#Data\" data-toc-modified-id=\"Data-3.2\"><span class=\"toc-item-num\">3.2&nbsp;&nbsp;</span>Data</a></span><ul class=\"toc-item\"><li><span><a href=\"#Project-Control-Booleans\" data-toc-modified-id=\"Project-Control-Booleans-3.2.1\"><span class=\"toc-item-num\">3.2.1&nbsp;&nbsp;</span>Project Control Booleans</a></span></li></ul></li></ul></li><li><span><a href=\"#[To-Be-Updated]-COPIED-legacy-book-2-on--09/06/21\" data-toc-modified-id=\"[To-Be-Updated]-COPIED-legacy-book-2-on--09/06/21-4\"><span class=\"toc-item-num\">4&nbsp;&nbsp;</span>[To Be Updated] COPIED legacy book 2 on  09/06/21</a></span></li><li><span><a href=\"#EDA---Comparing-States\" data-toc-modified-id=\"EDA---Comparing-States-5\"><span class=\"toc-item-num\">5&nbsp;&nbsp;</span>EDA - Comparing States</a></span><ul class=\"toc-item\"><li><span><a href=\"#FL\" data-toc-modified-id=\"FL-5.1\"><span class=\"toc-item-num\">5.1&nbsp;&nbsp;</span>FL</a></span><ul class=\"toc-item\"><li><span><a href=\"#Calc-Delta-Cases/Deaths\" data-toc-modified-id=\"Calc-Delta-Cases/Deaths-5.1.1\"><span class=\"toc-item-num\">5.1.1&nbsp;&nbsp;</span>Calc Delta Cases/Deaths</a></span></li></ul></li></ul></li><li><span><a href=\"#Time-Series-Modeling\" data-toc-modified-id=\"Time-Series-Modeling-6\"><span class=\"toc-item-num\">6&nbsp;&nbsp;</span>Time Series Modeling</a></span><ul class=\"toc-item\"><li><span><a href=\"#MD\" data-toc-modified-id=\"MD-6.1\"><span class=\"toc-item-num\">6.1&nbsp;&nbsp;</span>MD</a></span><ul class=\"toc-item\"><li><span><a href=\"#MD---Cases-New\" data-toc-modified-id=\"MD---Cases-New-6.1.1\"><span class=\"toc-item-num\">6.1.1&nbsp;&nbsp;</span>MD - Cases-New</a></span></li><li><span><a href=\"#MD---Hospitalized-Currently\" data-toc-modified-id=\"MD---Hospitalized-Currently-6.1.2\"><span class=\"toc-item-num\">6.1.2&nbsp;&nbsp;</span>MD - Hospitalized Currently</a></span></li></ul></li><li><span><a href=\"#🚨-BOOKMARK:-Data-Quality-Issue---Deaths\" data-toc-modified-id=\"🚨-BOOKMARK:-Data-Quality-Issue---Deaths-6.2\"><span class=\"toc-item-num\">6.2&nbsp;&nbsp;</span>🚨 BOOKMARK: Data Quality Issue - Deaths</a></span><ul class=\"toc-item\"><li><span><a href=\"#MD---Deaths-New\" data-toc-modified-id=\"MD---Deaths-New-6.2.1\"><span class=\"toc-item-num\">6.2.1&nbsp;&nbsp;</span>MD - Deaths-New</a></span></li></ul></li></ul></li><li><span><a href=\"#Function-For-Any-Given-State/-Column\" data-toc-modified-id=\"Function-For-Any-Given-State/-Column-7\"><span class=\"toc-item-num\">7&nbsp;&nbsp;</span>Function For Any Given State/ Column</a></span><ul class=\"toc-item\"><li><span><a href=\"#✔-TO-DO:-make-remove_outliers-into-a-helper-function\" data-toc-modified-id=\"✔-TO-DO:-make-remove_outliers-into-a-helper-function-7.1\"><span class=\"toc-item-num\">7.1&nbsp;&nbsp;</span><strong>✔ TO DO: make remove_outliers into a helper function</strong></a></span></li></ul></li><li><span><a href=\"#@interact\" data-toc-modified-id=\"@interact-8\"><span class=\"toc-item-num\">8&nbsp;&nbsp;</span><code>@interact</code></a></span></li><li><span><a href=\"#APPENDIX\" data-toc-modified-id=\"APPENDIX-9\"><span class=\"toc-item-num\">9&nbsp;&nbsp;</span>APPENDIX</a></span><ul class=\"toc-item\"><li><ul class=\"toc-item\"><li><span><a href=\"#def-modeling-functions\" data-toc-modified-id=\"def-modeling-functions-9.0.1\"><span class=\"toc-item-num\">9.0.1&nbsp;&nbsp;</span><code>def</code> modeling functions</a></span></li></ul></li></ul></li></ul></div>"
   ]
  },
  {
   "cell_type": "markdown",
   "metadata": {},
   "source": [
    "# Business Problem"
   ]
  },
  {
   "cell_type": "markdown",
   "metadata": {},
   "source": [
    "- Covid-19 and the various strains that have since emerged has upended modern life and fundamental changed how we function as a society.\n",
    "- Part of what has made it difficult to tackle the pandemic is due to differences between states, state laws/policies, and a lack of public understanding about the predictability of the surges in cases. \n"
   ]
  },
  {
   "cell_type": "markdown",
   "metadata": {},
   "source": [
    "### Goal"
   ]
  },
  {
   "cell_type": "markdown",
   "metadata": {},
   "source": [
    "- The goal of this notebook is to produce a workflow for producing forecasts of the following metrics at least 1 week ahead of time. \n",
    "    - Confirmed Cases\n",
    "    - Number of Deaths\n",
    "    - ICU Capacity\n",
    "    \n",
    "- The stretch goal for the project is to create a streamlit dashboard for getting state-level forecasts for any state in the US, using fresh daily data.\n",
    "    "
   ]
  },
  {
   "cell_type": "markdown",
   "metadata": {},
   "source": [
    "### Methodology"
   ]
  },
  {
   "cell_type": "markdown",
   "metadata": {},
   "source": [
    "- To select 3-5 prototypical states representing very different time courses/\n",
    "- Initial Thoughts:\n",
    "    - NY\n",
    "    - TX\n",
    "    - FL\n",
    "    - MD\n",
    "    - LA"
   ]
  },
  {
   "cell_type": "markdown",
   "metadata": {},
   "source": [
    "- See `data_acquisition.py`> `FULL_WORKFLOW()` and `1_Replacing Covid Tracking Project - Simplified Workflow.ipynb` for details (for now)\n"
   ]
  },
  {
   "cell_type": "markdown",
   "metadata": {},
   "source": [
    "# OBTAIN"
   ]
  },
  {
   "cell_type": "markdown",
   "metadata": {},
   "source": [
    "## Imports"
   ]
  },
  {
   "cell_type": "code",
   "execution_count": null,
   "metadata": {
    "ExecuteTime": {
     "end_time": "2021-09-09T14:59:55.609523Z",
     "start_time": "2021-09-09T14:59:53.280831Z"
    }
   },
   "outputs": [],
   "source": [
    "# !pip install -U pmdarima\n",
    "# !pip install -U fsds\n",
    "\n",
    "from fsds.imports import *"
   ]
  },
  {
   "cell_type": "code",
   "execution_count": null,
   "metadata": {
    "ExecuteTime": {
     "end_time": "2021-09-09T14:59:55.626952Z",
     "start_time": "2021-09-09T14:59:55.611725Z"
    }
   },
   "outputs": [],
   "source": [
    "import os,glob,sys,joblib,zipfile,json\n",
    "import re\n",
    "\n",
    "import plotly.express as px\n",
    "import plotly.graph_objects as go\n",
    "import plotly.io as pio\n",
    "pio.templates.default = \"plotly_dark\"\n",
    "\n",
    "plt.rcParams['figure.figsize'] = (12,6)\n",
    "pd.set_option('display.max_columns',0)\n",
    "# fs.check_package_versions(['statsmodels'],fpath=True)"
   ]
  },
  {
   "cell_type": "code",
   "execution_count": null,
   "metadata": {
    "ExecuteTime": {
     "end_time": "2021-09-09T14:59:55.806722Z",
     "start_time": "2021-09-09T14:59:55.628654Z"
    }
   },
   "outputs": [],
   "source": [
    "### FORECAST SPECIFIC FUNCTIONS\n",
    "import statsmodels.api as sms\n",
    "import statsmodels.tsa.api as tsa\n",
    "from pmdarima import auto_arima"
   ]
  },
  {
   "cell_type": "code",
   "execution_count": null,
   "metadata": {
    "ExecuteTime": {
     "end_time": "2021-09-09T14:59:55.813116Z",
     "start_time": "2021-09-09T14:59:55.810121Z"
    }
   },
   "outputs": [],
   "source": [
    "import statsmodels\n",
    "print(f\"Statsmodels version: {statsmodels.__version__}\")\n",
    "\n",
    "import pmdarima\n",
    "print(f\"pmdarima version: {pmdarima.__version__}\")"
   ]
  },
  {
   "cell_type": "code",
   "execution_count": null,
   "metadata": {
    "ExecuteTime": {
     "end_time": "2021-09-09T14:59:55.872175Z",
     "start_time": "2021-09-09T14:59:55.816291Z"
    }
   },
   "outputs": [],
   "source": [
    "## Custom Functions and Classes\n",
    "%load_ext autoreload\n",
    "%autoreload 2\n",
    "# import project_functions as fn\n",
    "import fsds.pandemic as fn"
   ]
  },
  {
   "cell_type": "markdown",
   "metadata": {},
   "source": [
    "## Data"
   ]
  },
  {
   "cell_type": "code",
   "execution_count": null,
   "metadata": {
    "ExecuteTime": {
     "end_time": "2021-09-09T14:59:55.926827Z",
     "start_time": "2021-09-09T14:59:55.874369Z"
    }
   },
   "outputs": [],
   "source": [
    "## Using new savedd FILE_DIRECTORIES\n",
    "import os,json,glob\n",
    "\n",
    "with open(\"FILE_DIRECTORY.json\") as f:\n",
    "    FPATHS = json.load(f)\n",
    "FPATHS"
   ]
  },
  {
   "cell_type": "code",
   "execution_count": null,
   "metadata": {
    "ExecuteTime": {
     "end_time": "2021-09-09T14:59:55.984009Z",
     "start_time": "2021-09-09T14:59:55.928543Z"
    }
   },
   "outputs": [],
   "source": [
    "for path_name,fpath in FPATHS.items():\n",
    "    try:\n",
    "        \n",
    "        found_files =  sorted(os.listdir(fpath))\n",
    "        print(f\"\\n[i] Files stored in {path_name}:\")\n",
    "        [print(\"\\t\",i,x) for i,x in enumerate(found_files)]\n",
    "    except:\n",
    "        pass\n"
   ]
  },
  {
   "cell_type": "markdown",
   "metadata": {},
   "source": [
    "### Project Control Booleans"
   ]
  },
  {
   "cell_type": "code",
   "execution_count": null,
   "metadata": {
    "ExecuteTime": {
     "end_time": "2021-09-09T14:59:56.053504Z",
     "start_time": "2021-09-09T14:59:55.985356Z"
    }
   },
   "outputs": [],
   "source": [
    "RUN_FULL_WORKFLOW=True"
   ]
  },
  {
   "cell_type": "code",
   "execution_count": null,
   "metadata": {
    "ExecuteTime": {
     "end_time": "2021-09-09T14:59:56.107614Z",
     "start_time": "2021-09-09T14:59:56.055582Z"
    }
   },
   "outputs": [],
   "source": [
    "# ## making mapper dict to rename new columns\n",
    "# new_to_match_old_map = {\n",
    "#     'Deaths':'death',\n",
    "#     'Cases':'positive',\n",
    "#     'total_adult_patients_hospitalized_confirmed_covid':'hospitalizedCurrently',\n",
    "# 'adult_icu_bed_covid_utilization_numerator':'inIcuCurrently'}\n",
    "# ## making mapper dict to rename new columns\n",
    "# new_to_final_names = {\n",
    "#     'Deaths':'Deaths',\n",
    "#     'Cases':'Cases',\n",
    "#     'total_adult_patients_hospitalized_confirmed_covid':'Hospitalized Currently',\n",
    "# 'adult_icu_bed_covid_utilization_numerator':'ICU-Covid Currently'}\n",
    "# list(new_to_final_names.keys())"
   ]
  },
  {
   "cell_type": "code",
   "execution_count": null,
   "metadata": {
    "ExecuteTime": {
     "end_time": "2021-09-09T14:59:56.169095Z",
     "start_time": "2021-09-09T14:59:56.109627Z"
    }
   },
   "outputs": [],
   "source": [
    "FPATHS"
   ]
  },
  {
   "cell_type": "code",
   "execution_count": null,
   "metadata": {
    "ExecuteTime": {
     "end_time": "2021-09-09T14:59:56.223288Z",
     "start_time": "2021-09-09T14:59:56.170799Z"
    }
   },
   "outputs": [],
   "source": [
    "os.listdir(FPATHS['fpath_clean'])"
   ]
  },
  {
   "cell_type": "code",
   "execution_count": null,
   "metadata": {
    "ExecuteTime": {
     "end_time": "2021-09-09T14:52:17.452329Z",
     "start_time": "2021-09-09T14:52:17.318512Z"
    }
   },
   "outputs": [],
   "source": []
  },
  {
   "cell_type": "code",
   "execution_count": null,
   "metadata": {
    "ExecuteTime": {
     "end_time": "2021-09-09T15:00:38.472796Z",
     "start_time": "2021-09-09T14:59:56.228140Z"
    }
   },
   "outputs": [],
   "source": [
    "## Uncomment Cell to acquire new data\n",
    "if RUN_FULL_WORKFLOW:\n",
    "    df_states,STATES = fn.data_acquisition.FULL_WORKFLOW(merge_hospital_data=True)\n",
    "    ## renaming since merge_hofspital_data=True\n",
    "#     DF = df_states.copy()\n",
    "#     print(STATES.keys())    \n",
    "    \n",
    "else:\n",
    "    print(f\"[i] Using previously downloaded data...\")\n",
    "    df_states = pd.read_pickle(FPATHS['fpath_final_df_pickle'])\n",
    "    \n",
    "#     with open(FPATHS['fpath_final_states']) as f:\n",
    "    STATES = joblib.load(FPATHS['fpath_final_states'])\n",
    "#     df_states = pd.read_csv(os.path.join(fpath_clean,\n",
    "#                                          'combined_us_states_full_data.csv'))\n",
    "#     STATES = joblib.load(os.path.join(fpath_clean,'STATE_DICT.joblib'))\n",
    "\n",
    "display(df_states.head())\n",
    "print(STATES.keys())"
   ]
  },
  {
   "cell_type": "markdown",
   "metadata": {},
   "source": [
    "# [To Be Updated] COPIED legacy book 2 on  09/06/21"
   ]
  },
  {
   "cell_type": "markdown",
   "metadata": {},
   "source": [
    "# EDA - Comparing States"
   ]
  },
  {
   "cell_type": "markdown",
   "metadata": {},
   "source": [
    "## FL"
   ]
  },
  {
   "cell_type": "code",
   "execution_count": null,
   "metadata": {
    "ExecuteTime": {
     "end_time": "2021-09-09T15:00:38.479529Z",
     "start_time": "2021-09-09T14:59:53.318Z"
    }
   },
   "outputs": [],
   "source": [
    "FL = STATES['FL'].copy()\n",
    "FL"
   ]
  },
  {
   "cell_type": "code",
   "execution_count": null,
   "metadata": {
    "ExecuteTime": {
     "end_time": "2021-09-09T15:00:38.480515Z",
     "start_time": "2021-09-09T14:59:53.321Z"
    }
   },
   "outputs": [],
   "source": [
    "## first non-null hospital timestamps\n",
    "first_ts = FL[FL['Hospitalized Currently'].notna()].index[0]\n",
    "first_ts"
   ]
  },
  {
   "cell_type": "markdown",
   "metadata": {},
   "source": [
    "### Calc Delta Cases/Deaths"
   ]
  },
  {
   "cell_type": "code",
   "execution_count": null,
   "metadata": {
    "ExecuteTime": {
     "end_time": "2021-09-09T15:00:38.481490Z",
     "start_time": "2021-09-09T14:59:53.326Z"
    }
   },
   "outputs": [],
   "source": [
    "FL.columns"
   ]
  },
  {
   "cell_type": "code",
   "execution_count": null,
   "metadata": {
    "ExecuteTime": {
     "end_time": "2021-09-09T15:00:38.482708Z",
     "start_time": "2021-09-09T14:59:53.330Z"
    }
   },
   "outputs": [],
   "source": [
    "## Plot deaths/cases\n",
    "cumulative_cols = [c for c in FL.columns for name in ['Daths','Cases']if name in c]\n",
    "FL[cumulative_cols].plot(subplots=True)"
   ]
  },
  {
   "cell_type": "code",
   "execution_count": null,
   "metadata": {
    "ExecuteTime": {
     "end_time": "2021-09-09T15:00:38.483700Z",
     "start_time": "2021-09-09T14:59:53.334Z"
    }
   },
   "outputs": [],
   "source": [
    "import plotly\n",
    "plotly.__version__"
   ]
  },
  {
   "cell_type": "code",
   "execution_count": null,
   "metadata": {
    "ExecuteTime": {
     "end_time": "2021-09-09T15:00:38.484678Z",
     "start_time": "2021-09-09T14:59:53.336Z"
    }
   },
   "outputs": [],
   "source": [
    "import missingno\n",
    "missingno.matrix(FL)"
   ]
  },
  {
   "cell_type": "code",
   "execution_count": null,
   "metadata": {
    "ExecuteTime": {
     "end_time": "2021-09-09T15:00:38.485816Z",
     "start_time": "2021-09-09T14:59:53.340Z"
    }
   },
   "outputs": [],
   "source": [
    "# px.imshow(FL.isna(),template='plotly_dark',color_continuous_scale=\"Reds\")"
   ]
  },
  {
   "cell_type": "code",
   "execution_count": null,
   "metadata": {
    "ExecuteTime": {
     "end_time": "2021-09-09T15:00:38.486751Z",
     "start_time": "2021-09-09T14:59:53.343Z"
    }
   },
   "outputs": [],
   "source": [
    "plot_cols = FL.drop(columns=cumulative_cols).columns\n",
    "plot_cols"
   ]
  },
  {
   "cell_type": "code",
   "execution_count": null,
   "metadata": {
    "ExecuteTime": {
     "end_time": "2021-09-09T15:00:38.487823Z",
     "start_time": "2021-09-09T14:59:53.346Z"
    }
   },
   "outputs": [],
   "source": [
    "import plotly \n",
    "plotly.__version__"
   ]
  },
  {
   "cell_type": "code",
   "execution_count": null,
   "metadata": {
    "ExecuteTime": {
     "end_time": "2021-09-09T15:00:38.488843Z",
     "start_time": "2021-09-09T14:59:53.349Z"
    }
   },
   "outputs": [],
   "source": [
    "pfig = px.line(FL,y=plot_cols,width=1000,title=\"FL Data\")\n",
    "pfig.add_vline(first_ts,line_width=3,line_dash=\"dash\",name='Start')\n",
    "pfig.show()"
   ]
  },
  {
   "cell_type": "code",
   "execution_count": null,
   "metadata": {
    "ExecuteTime": {
     "end_time": "2021-09-09T15:00:38.489990Z",
     "start_time": "2021-09-09T14:59:53.352Z"
    }
   },
   "outputs": [],
   "source": [
    "# raise Exception('end of 09/01/21, though below code is still good.')"
   ]
  },
  {
   "cell_type": "markdown",
   "metadata": {},
   "source": [
    "# Time Series Modeling"
   ]
  },
  {
   "cell_type": "code",
   "execution_count": null,
   "metadata": {
    "ExecuteTime": {
     "end_time": "2021-09-09T15:00:38.490926Z",
     "start_time": "2021-09-09T14:59:53.355Z"
    }
   },
   "outputs": [],
   "source": [
    "### FORECAST SPECIFIC FUNCTIONS\n",
    "from statsmodels.tsa.statespace.sarimax import SARIMAX\n",
    "import statsmodels.api as sms\n",
    "import statsmodels.tsa.api as tsa\n",
    "from pmdarima import auto_arima"
   ]
  },
  {
   "cell_type": "markdown",
   "metadata": {},
   "source": [
    "## MD"
   ]
  },
  {
   "cell_type": "code",
   "execution_count": null,
   "metadata": {
    "ExecuteTime": {
     "end_time": "2021-09-09T15:00:38.491965Z",
     "start_time": "2021-09-09T14:59:53.359Z"
    }
   },
   "outputs": [],
   "source": [
    "state = \"MD\"\n",
    "df_state = STATES[state].loc['08-2020':].copy()\n",
    "# df_state = df_state.interpolate('time')\n",
    "# df_state['Deaths-New'] = df_state['Deaths'].diff()\n",
    "# df_state['Cases-New'] = df_state['Cases'].diff()\n",
    "df_state = df_state.resample('D').sum()\n",
    "\n",
    "print(df_state.isna().sum())\n",
    "df_state"
   ]
  },
  {
   "cell_type": "code",
   "execution_count": null,
   "metadata": {
    "ExecuteTime": {
     "end_time": "2021-09-09T15:00:38.493012Z",
     "start_time": "2021-09-09T14:59:53.362Z"
    }
   },
   "outputs": [],
   "source": [
    "model_cols = ['Hospitalized Currently','ICU-Covid Currently',\n",
    "              'Deaths-New','Cases-New'\n",
    "             ]\n",
    "\n",
    "## visualize\n",
    "ax = df_state[model_cols].plot(subplots=True, figsize=(10,12))\n",
    "plt.tight_layout();"
   ]
  },
  {
   "cell_type": "markdown",
   "metadata": {},
   "source": [
    "#### Data Quality Issues\n",
    "- There are strong spikes +/- that are not likely to be real values."
   ]
  },
  {
   "cell_type": "markdown",
   "metadata": {},
   "source": [
    "### MD - Cases-New"
   ]
  },
  {
   "cell_type": "code",
   "execution_count": null,
   "metadata": {
    "ExecuteTime": {
     "end_time": "2021-09-09T15:00:38.493996Z",
     "start_time": "2021-09-09T14:59:53.366Z"
    }
   },
   "outputs": [],
   "source": [
    "col = 'Cases-New'\n",
    "ts = df_state[col].copy()\n",
    "ax = ts.plot(title=f\"{state}-{col}\");\n",
    "ax.set_ylabel(col)"
   ]
  },
  {
   "cell_type": "markdown",
   "metadata": {},
   "source": [
    "#### Train Test Split"
   ]
  },
  {
   "cell_type": "code",
   "execution_count": null,
   "metadata": {
    "ExecuteTime": {
     "end_time": "2021-09-09T15:00:38.495081Z",
     "start_time": "2021-09-09T14:59:53.370Z"
    }
   },
   "outputs": [],
   "source": [
    "train,test = fn.modeling.train_test_split_ts(ts,split_index=-30)"
   ]
  },
  {
   "cell_type": "markdown",
   "metadata": {
    "id": "pLrabV-ersER"
   },
   "source": [
    "#### Checking Seasonal Decompose for Seasonality to Use"
   ]
  },
  {
   "cell_type": "code",
   "execution_count": null,
   "metadata": {
    "ExecuteTime": {
     "end_time": "2021-09-09T15:00:38.496022Z",
     "start_time": "2021-09-09T14:59:53.373Z"
    },
    "colab": {
     "base_uri": "https://localhost:8080/",
     "height": 441
    },
    "id": "SMMxLcVFn041",
    "outputId": "09cc9c27-009f-42d5-b1c3-62f868353ee5"
   },
   "outputs": [],
   "source": [
    "## Get Decomposed time sereis\n",
    "decomp = tsa.seasonal_decompose(train)\n",
    "decomp.plot();"
   ]
  },
  {
   "cell_type": "code",
   "execution_count": null,
   "metadata": {
    "ExecuteTime": {
     "end_time": "2021-09-09T15:00:38.496965Z",
     "start_time": "2021-09-09T14:59:53.376Z"
    },
    "colab": {
     "base_uri": "https://localhost:8080/",
     "height": 440
    },
    "id": "V6OJUaIaoNKM",
    "outputId": "058029a6-d035-49aa-9eab-882db278d33b"
   },
   "outputs": [],
   "source": [
    "ax = decomp.seasonal.loc['01-2021'].plot(figsize=(12,5))\n",
    "ax.grid(which='both')"
   ]
  },
  {
   "cell_type": "markdown",
   "metadata": {
    "id": "_SrV8Rzyn0MU"
   },
   "source": [
    "- Seasonality appears to be ~7 days"
   ]
  },
  {
   "cell_type": "code",
   "execution_count": null,
   "metadata": {
    "ExecuteTime": {
     "end_time": "2021-09-09T15:00:38.498109Z",
     "start_time": "2021-09-09T14:59:53.380Z"
    }
   },
   "outputs": [],
   "source": [
    "fn.modeling.stationarity_check(train.diff(7).dropna(),window=4);"
   ]
  },
  {
   "cell_type": "code",
   "execution_count": null,
   "metadata": {
    "ExecuteTime": {
     "end_time": "2021-09-09T15:00:38.499081Z",
     "start_time": "2021-09-09T14:59:53.383Z"
    }
   },
   "outputs": [],
   "source": [
    "fn.modeling.plot_acf_pacf(train,);"
   ]
  },
  {
   "cell_type": "code",
   "execution_count": null,
   "metadata": {
    "ExecuteTime": {
     "end_time": "2021-09-09T15:00:38.500069Z",
     "start_time": "2021-09-09T14:59:53.385Z"
    }
   },
   "outputs": [],
   "source": [
    "fn.modeling.plot_acf_pacf(train,diff=7);"
   ]
  },
  {
   "cell_type": "markdown",
   "metadata": {},
   "source": [
    "> Add notes about COVID insights from acf/pacf"
   ]
  },
  {
   "cell_type": "markdown",
   "metadata": {},
   "source": [
    "#### GridSearch SARIMA Orders"
   ]
  },
  {
   "cell_type": "code",
   "execution_count": null,
   "metadata": {
    "ExecuteTime": {
     "end_time": "2021-09-09T15:00:38.501236Z",
     "start_time": "2021-09-09T14:59:53.389Z"
    },
    "colab": {
     "base_uri": "https://localhost:8080/"
    },
    "id": "wrBLGbZ2nYQS",
    "outputId": "84a126a6-a191-429a-e679-6313b7e0840a"
   },
   "outputs": [],
   "source": [
    "from pmdarima import auto_arima\n",
    "\n",
    "auto_model = auto_arima(train,m=7,trace=True,D=1,\n",
    "                        start_p=0, start_q=0,\n",
    "                        start_P=0, start_Q=0)\n",
    "auto_model.summary()"
   ]
  },
  {
   "cell_type": "markdown",
   "metadata": {},
   "source": [
    "#### Use Best Params for new SARIMAX"
   ]
  },
  {
   "cell_type": "code",
   "execution_count": null,
   "metadata": {
    "ExecuteTime": {
     "end_time": "2021-09-09T15:00:38.502248Z",
     "start_time": "2021-09-09T14:59:53.393Z"
    },
    "colab": {
     "base_uri": "https://localhost:8080/"
    },
    "id": "u9lEfH3roi87",
    "outputId": "394731f0-f82b-45b8-f36d-1ab385866427",
    "scrolled": false
   },
   "outputs": [],
   "source": [
    "model = tsa.SARIMAX(train, order=auto_model.order, \n",
    "                    seasonal_order =auto_model.seasonal_order,\n",
    "                    enforce_invertibility=False,\n",
    "                    enforce_stationarity=False, \n",
    "                    freq='D').fit()\n",
    "\n",
    "fn.modeling.evaluate_model(model,train,test,last_n_lags=180)"
   ]
  },
  {
   "cell_type": "markdown",
   "metadata": {
    "ExecuteTime": {
     "end_time": "2021-08-18T22:43:41.332189Z",
     "start_time": "2021-08-18T22:43:41.274210Z"
    }
   },
   "source": [
    "#### Next: if happy with forecast, train on entire ts"
   ]
  },
  {
   "cell_type": "code",
   "execution_count": null,
   "metadata": {
    "ExecuteTime": {
     "end_time": "2021-09-09T15:00:38.503072Z",
     "start_time": "2021-09-09T14:59:53.397Z"
    },
    "scrolled": false
   },
   "outputs": [],
   "source": [
    "model = tsa.SARIMAX(ts,order=auto_model.order, \n",
    "                    seasonal_order =auto_model.seasonal_order,\n",
    "                    enforce_invertibility=False,\n",
    "                    enforce_stationarity=False, \n",
    "                    freq='D').fit()\n",
    "fn.modeling.diagnose_model(model)\n",
    "fn.modeling.plot_forecast(model, ts)"
   ]
  },
  {
   "cell_type": "markdown",
   "metadata": {},
   "source": [
    "### MD - Hospitalized Currently"
   ]
  },
  {
   "cell_type": "code",
   "execution_count": null,
   "metadata": {
    "ExecuteTime": {
     "end_time": "2021-09-09T15:00:38.504023Z",
     "start_time": "2021-09-09T14:59:53.401Z"
    }
   },
   "outputs": [],
   "source": [
    "# df_state['Hospitalized Currently']"
   ]
  },
  {
   "cell_type": "code",
   "execution_count": null,
   "metadata": {
    "ExecuteTime": {
     "end_time": "2021-09-09T15:00:38.505160Z",
     "start_time": "2021-09-09T14:59:53.404Z"
    }
   },
   "outputs": [],
   "source": [
    "col = 'Hospitalized Currently'\n",
    "ts = df_state[col].copy()\n",
    "ax = ts.plot(title=f\"{state}-{col}\");\n",
    "ax.set_ylabel(col)"
   ]
  },
  {
   "cell_type": "markdown",
   "metadata": {},
   "source": [
    "#### Train Test Split"
   ]
  },
  {
   "cell_type": "code",
   "execution_count": null,
   "metadata": {
    "ExecuteTime": {
     "end_time": "2021-09-09T15:00:38.506152Z",
     "start_time": "2021-09-09T14:59:53.408Z"
    }
   },
   "outputs": [],
   "source": [
    "train,test = fn.modeling.train_test_split_ts(ts,split_index=-30)"
   ]
  },
  {
   "cell_type": "markdown",
   "metadata": {
    "id": "pLrabV-ersER"
   },
   "source": [
    "#### Checking Seasonal Decompose for Seasonality to Use"
   ]
  },
  {
   "cell_type": "code",
   "execution_count": null,
   "metadata": {
    "ExecuteTime": {
     "end_time": "2021-09-09T15:00:38.507162Z",
     "start_time": "2021-09-09T14:59:53.412Z"
    },
    "colab": {
     "base_uri": "https://localhost:8080/",
     "height": 441
    },
    "id": "SMMxLcVFn041",
    "outputId": "09cc9c27-009f-42d5-b1c3-62f868353ee5"
   },
   "outputs": [],
   "source": [
    "## Get Decomposed time sereis\n",
    "decomp = tsa.seasonal_decompose(train)\n",
    "decomp.plot();"
   ]
  },
  {
   "cell_type": "code",
   "execution_count": null,
   "metadata": {
    "ExecuteTime": {
     "end_time": "2021-09-09T15:00:38.508155Z",
     "start_time": "2021-09-09T14:59:53.414Z"
    },
    "colab": {
     "base_uri": "https://localhost:8080/",
     "height": 440
    },
    "id": "V6OJUaIaoNKM",
    "outputId": "058029a6-d035-49aa-9eab-882db278d33b"
   },
   "outputs": [],
   "source": [
    "ax = decomp.seasonal.loc['01-2021'].plot()\n",
    "ax.grid(which='both')"
   ]
  },
  {
   "cell_type": "markdown",
   "metadata": {
    "id": "_SrV8Rzyn0MU"
   },
   "source": [
    "- Seasonality appears to be ~7 days"
   ]
  },
  {
   "cell_type": "code",
   "execution_count": null,
   "metadata": {
    "ExecuteTime": {
     "end_time": "2021-09-09T15:00:38.509175Z",
     "start_time": "2021-09-09T14:59:53.418Z"
    }
   },
   "outputs": [],
   "source": [
    "fn.modeling.stationarity_check(train.diff(7).dropna(),window=4);"
   ]
  },
  {
   "cell_type": "code",
   "execution_count": null,
   "metadata": {
    "ExecuteTime": {
     "end_time": "2021-09-09T15:00:38.510209Z",
     "start_time": "2021-09-09T14:59:53.421Z"
    }
   },
   "outputs": [],
   "source": [
    "fn.modeling.plot_acf_pacf(train,);"
   ]
  },
  {
   "cell_type": "code",
   "execution_count": null,
   "metadata": {
    "ExecuteTime": {
     "end_time": "2021-09-09T15:00:38.511172Z",
     "start_time": "2021-09-09T14:59:53.424Z"
    }
   },
   "outputs": [],
   "source": [
    "fn.modeling.plot_acf_pacf(train,diff=7);"
   ]
  },
  {
   "cell_type": "markdown",
   "metadata": {},
   "source": [
    "> Add notes about COVID insights from acf/pacf"
   ]
  },
  {
   "cell_type": "markdown",
   "metadata": {},
   "source": [
    "#### GridSearch SARIMA Orders"
   ]
  },
  {
   "cell_type": "code",
   "execution_count": null,
   "metadata": {
    "ExecuteTime": {
     "end_time": "2021-09-09T15:00:38.512205Z",
     "start_time": "2021-09-09T14:59:53.429Z"
    },
    "colab": {
     "base_uri": "https://localhost:8080/"
    },
    "id": "wrBLGbZ2nYQS",
    "outputId": "84a126a6-a191-429a-e679-6313b7e0840a"
   },
   "outputs": [],
   "source": [
    "from pmdarima import auto_arima\n",
    "\n",
    "auto_model = auto_arima(train,m=7,trace=True,D=1,\n",
    "                        start_p=0, start_q=0,\n",
    "                        start_P=0, start_Q=0)\n",
    "auto_model.summary()"
   ]
  },
  {
   "cell_type": "markdown",
   "metadata": {},
   "source": [
    "#### Use Best Params for new SARIMAX"
   ]
  },
  {
   "cell_type": "code",
   "execution_count": null,
   "metadata": {
    "ExecuteTime": {
     "end_time": "2021-09-09T15:00:38.513171Z",
     "start_time": "2021-09-09T14:59:53.433Z"
    },
    "colab": {
     "base_uri": "https://localhost:8080/"
    },
    "id": "u9lEfH3roi87",
    "outputId": "394731f0-f82b-45b8-f36d-1ab385866427",
    "scrolled": false
   },
   "outputs": [],
   "source": [
    "model = tsa.SARIMAX(train, order=auto_model.order, \n",
    "                    seasonal_order =auto_model.seasonal_order,\n",
    "                    enforce_invertibility=False,\n",
    "                    enforce_stationarity=False, \n",
    "                    freq='D').fit()\n",
    "\n",
    "fn.modeling.evaluate_model(model,train,test,last_n_lags=180)"
   ]
  },
  {
   "cell_type": "markdown",
   "metadata": {
    "ExecuteTime": {
     "end_time": "2021-08-18T22:43:41.332189Z",
     "start_time": "2021-08-18T22:43:41.274210Z"
    }
   },
   "source": [
    "#### Next: if happy with forecast, train on entire ts"
   ]
  },
  {
   "cell_type": "code",
   "execution_count": null,
   "metadata": {
    "ExecuteTime": {
     "end_time": "2021-09-09T15:00:38.514158Z",
     "start_time": "2021-09-09T14:59:53.436Z"
    },
    "scrolled": true
   },
   "outputs": [],
   "source": [
    "model = tsa.SARIMAX(ts,order=auto_model.order, \n",
    "                    seasonal_order =auto_model.seasonal_order,\n",
    "                    enforce_invertibility=False,\n",
    "                    enforce_stationarity=False, \n",
    "                    freq='D').fit()\n",
    "fn.modeling.diagnose_model(model)\n",
    "fn.modeling.plot_forecast(model, ts)"
   ]
  },
  {
   "cell_type": "markdown",
   "metadata": {},
   "source": [
    "## 🚨 BOOKMARK: Data Quality Issue - Deaths"
   ]
  },
  {
   "cell_type": "markdown",
   "metadata": {},
   "source": [
    "- To Do: Remove outliers.\n",
    "    - Try using .diff() and a high threshold for deterining outliers"
   ]
  },
  {
   "cell_type": "markdown",
   "metadata": {},
   "source": [
    "### MD - Deaths-New"
   ]
  },
  {
   "cell_type": "code",
   "execution_count": null,
   "metadata": {
    "ExecuteTime": {
     "end_time": "2021-09-09T15:00:38.515200Z",
     "start_time": "2021-09-09T14:59:53.441Z"
    }
   },
   "outputs": [],
   "source": [
    "col = 'Deaths-New'\n",
    "ts = df_state[col].copy()\n",
    "ax = ts.plot(title=f\"{state}-{col}\");\n",
    "ax.set_ylabel(col)"
   ]
  },
  {
   "cell_type": "code",
   "execution_count": null,
   "metadata": {
    "ExecuteTime": {
     "end_time": "2021-09-09T15:00:38.516198Z",
     "start_time": "2021-09-09T14:59:53.445Z"
    }
   },
   "outputs": [],
   "source": [
    "## saving deltas \n",
    "deltas  = ts.diff()\n",
    "\n",
    "## SSaving outleirs\n",
    "threshold=100\n",
    "outliers = deltas[deltas.abs()>threshold]\n",
    "outliers"
   ]
  },
  {
   "cell_type": "code",
   "execution_count": null,
   "metadata": {
    "ExecuteTime": {
     "end_time": "2021-09-09T15:00:38.517228Z",
     "start_time": "2021-09-09T14:59:53.447Z"
    }
   },
   "outputs": [],
   "source": [
    "# outliers= deltas[deltas.abs()>threshold]\n",
    "# outliers"
   ]
  },
  {
   "cell_type": "code",
   "execution_count": null,
   "metadata": {
    "ExecuteTime": {
     "end_time": "2021-09-09T15:00:38.518254Z",
     "start_time": "2021-09-09T14:59:53.450Z"
    }
   },
   "outputs": [],
   "source": [
    "## saving deltas \n",
    "fig, axes = plt.subplots(nrows=2,figsize=(12,9))\n",
    "ax0 = ts.hist(bins='auto',ax=axes[0])\n",
    "ax0.set(title='Original time series')\n",
    "\n",
    "## saving deltas \n",
    "ax1 = deltas.hist(bins='auto',ax=axes[1])\n",
    "ax1.set(title='Daily Change in # of deaths ');\n",
    "\n",
    "for ax in axes:\n",
    "    ax.axvline(threshold,ls=':',c='red')\n",
    "    ax.axvline(-threshold,ls=':',c='red')"
   ]
  },
  {
   "cell_type": "code",
   "execution_count": null,
   "metadata": {
    "ExecuteTime": {
     "end_time": "2021-09-09T15:00:38.519166Z",
     "start_time": "2021-09-09T14:59:53.454Z"
    }
   },
   "outputs": [],
   "source": [
    "## Plotting High Deltas on original time seires\n",
    "\n",
    "## saving deltas \n",
    "fig, axes = plt.subplots(nrows=2,figsize=(12,9))\n",
    "\n",
    "ax =axes[0]\n",
    "ts.plot(ax = ax)\n",
    "ax.set(title='Original Time Series ')\n",
    "\n",
    "deltas.plot(ax=axes[1])\n",
    "for ax in axes:\n",
    "    [ax.axvline(x_val,label=x_val,lw=0.5,ls = ':',color='red') for x_val in outliers.index]\n",
    "    ax.legend()\n",
    "\n"
   ]
  },
  {
   "cell_type": "markdown",
   "metadata": {},
   "source": [
    "> The issues seem to be entirely in the deltas and therefore "
   ]
  },
  {
   "cell_type": "code",
   "execution_count": null,
   "metadata": {
    "ExecuteTime": {
     "end_time": "2021-09-09T15:00:38.520176Z",
     "start_time": "2021-09-09T14:59:53.457Z"
    }
   },
   "outputs": [],
   "source": [
    "## saving deltas \n",
    "deltas  = ts.diff()\n",
    "\n",
    "## SSaving outleirs\n",
    "threshold=100\n",
    "outliers = deltas[deltas.abs()>threshold]\n",
    "\n",
    "\n",
    "## Filling in outliers\n",
    "ts.loc[outliers.index] = np.nan\n",
    "ts.interpolate(inplace=True)\n",
    "ts.plot()"
   ]
  },
  {
   "cell_type": "code",
   "execution_count": null,
   "metadata": {
    "ExecuteTime": {
     "end_time": "2021-09-09T15:00:38.521171Z",
     "start_time": "2021-09-09T14:59:53.460Z"
    }
   },
   "outputs": [],
   "source": [
    "\n",
    "## Filling in outliers\n",
    "ts.loc[outliers.index] = np.nan\n",
    "ts.interpolate(inplace=True)\n",
    "ts.plot()"
   ]
  },
  {
   "cell_type": "code",
   "execution_count": null,
   "metadata": {
    "ExecuteTime": {
     "end_time": "2021-09-09T15:00:38.522223Z",
     "start_time": "2021-09-09T14:59:53.464Z"
    }
   },
   "outputs": [],
   "source": [
    "# raise Exception('Deal with the data quality issue above')"
   ]
  },
  {
   "cell_type": "markdown",
   "metadata": {},
   "source": [
    "#### Train Test Split"
   ]
  },
  {
   "cell_type": "code",
   "execution_count": null,
   "metadata": {
    "ExecuteTime": {
     "end_time": "2021-09-09T15:00:38.523217Z",
     "start_time": "2021-09-09T14:59:53.468Z"
    }
   },
   "outputs": [],
   "source": [
    "train,test = fn.modeling.train_test_split_ts(ts,split_index=-30)"
   ]
  },
  {
   "cell_type": "markdown",
   "metadata": {
    "id": "pLrabV-ersER"
   },
   "source": [
    "#### Checking Seasonal Decompose for Seasonality to Use"
   ]
  },
  {
   "cell_type": "code",
   "execution_count": null,
   "metadata": {
    "ExecuteTime": {
     "end_time": "2021-09-09T15:00:38.524253Z",
     "start_time": "2021-09-09T14:59:53.471Z"
    },
    "colab": {
     "base_uri": "https://localhost:8080/",
     "height": 441
    },
    "id": "SMMxLcVFn041",
    "outputId": "09cc9c27-009f-42d5-b1c3-62f868353ee5"
   },
   "outputs": [],
   "source": [
    "## Get Decomposed time sereis\n",
    "decomp = tsa.seasonal_decompose(train)\n",
    "decomp.plot();"
   ]
  },
  {
   "cell_type": "code",
   "execution_count": null,
   "metadata": {
    "ExecuteTime": {
     "end_time": "2021-09-09T15:00:38.525189Z",
     "start_time": "2021-09-09T14:59:53.474Z"
    },
    "colab": {
     "base_uri": "https://localhost:8080/",
     "height": 440
    },
    "id": "V6OJUaIaoNKM",
    "outputId": "058029a6-d035-49aa-9eab-882db278d33b"
   },
   "outputs": [],
   "source": [
    "ax = decomp.seasonal.loc['01-2021'].plot()\n",
    "ax.grid(which='both')"
   ]
  },
  {
   "cell_type": "markdown",
   "metadata": {
    "id": "_SrV8Rzyn0MU"
   },
   "source": [
    "- Seasonality appears to be ~7 days"
   ]
  },
  {
   "cell_type": "code",
   "execution_count": null,
   "metadata": {
    "ExecuteTime": {
     "end_time": "2021-09-09T15:00:38.526201Z",
     "start_time": "2021-09-09T14:59:53.478Z"
    }
   },
   "outputs": [],
   "source": [
    "fn.modeling.stationarity_check(train.diff(7).dropna(),window=4);"
   ]
  },
  {
   "cell_type": "code",
   "execution_count": null,
   "metadata": {
    "ExecuteTime": {
     "end_time": "2021-09-09T15:00:38.527271Z",
     "start_time": "2021-09-09T14:59:53.481Z"
    }
   },
   "outputs": [],
   "source": [
    "fn.modeling.plot_acf_pacf(train,);"
   ]
  },
  {
   "cell_type": "code",
   "execution_count": null,
   "metadata": {
    "ExecuteTime": {
     "end_time": "2021-09-09T15:00:38.528561Z",
     "start_time": "2021-09-09T14:59:53.484Z"
    }
   },
   "outputs": [],
   "source": [
    "fn.modeling.plot_acf_pacf(train,diff=7);"
   ]
  },
  {
   "cell_type": "markdown",
   "metadata": {},
   "source": [
    "> Add notes about COVID insights from acf/pacf"
   ]
  },
  {
   "cell_type": "markdown",
   "metadata": {},
   "source": [
    "#### GridSearch SARIMA Orders"
   ]
  },
  {
   "cell_type": "code",
   "execution_count": null,
   "metadata": {
    "ExecuteTime": {
     "end_time": "2021-09-09T15:00:38.529591Z",
     "start_time": "2021-09-09T14:59:53.488Z"
    },
    "colab": {
     "base_uri": "https://localhost:8080/"
    },
    "id": "wrBLGbZ2nYQS",
    "outputId": "84a126a6-a191-429a-e679-6313b7e0840a"
   },
   "outputs": [],
   "source": [
    "from pmdarima import auto_arima\n",
    "\n",
    "auto_model = auto_arima(train,m=7,trace=True,D=1,\n",
    "                        start_p=0, start_q=0,\n",
    "                        start_P=0, start_Q=0)\n",
    "auto_model.summary()"
   ]
  },
  {
   "cell_type": "markdown",
   "metadata": {},
   "source": [
    "#### Use Best Params for new SARIMAX"
   ]
  },
  {
   "cell_type": "code",
   "execution_count": null,
   "metadata": {
    "ExecuteTime": {
     "end_time": "2021-09-09T15:00:38.530671Z",
     "start_time": "2021-09-09T14:59:53.492Z"
    },
    "colab": {
     "base_uri": "https://localhost:8080/"
    },
    "id": "u9lEfH3roi87",
    "outputId": "394731f0-f82b-45b8-f36d-1ab385866427",
    "scrolled": false
   },
   "outputs": [],
   "source": [
    "model = tsa.SARIMAX(train, order=auto_model.order, \n",
    "                    seasonal_order =auto_model.seasonal_order,\n",
    "                    enforce_invertibility=False,\n",
    "                    enforce_stationarity=False, \n",
    "                    freq='D').fit()\n",
    "\n",
    "fn.modeling.evaluate_model(model,train,test,last_n_lags=180)"
   ]
  },
  {
   "cell_type": "markdown",
   "metadata": {
    "ExecuteTime": {
     "end_time": "2021-08-18T22:43:41.332189Z",
     "start_time": "2021-08-18T22:43:41.274210Z"
    }
   },
   "source": [
    "#### Next: if happy with forecast, train on entire ts"
   ]
  },
  {
   "cell_type": "code",
   "execution_count": null,
   "metadata": {
    "ExecuteTime": {
     "end_time": "2021-09-09T15:00:38.531714Z",
     "start_time": "2021-09-09T14:59:53.495Z"
    },
    "scrolled": true
   },
   "outputs": [],
   "source": [
    "model = tsa.SARIMAX(ts,order=auto_model.order, \n",
    "                    seasonal_order =auto_model.seasonal_order,\n",
    "                    enforce_invertibility=False,\n",
    "                    enforce_stationarity=False, \n",
    "                    freq='D').fit()\n",
    "fn.modeling.diagnose_model(model)\n",
    "fn.modeling.plot_forecast(model, ts)"
   ]
  },
  {
   "cell_type": "markdown",
   "metadata": {},
   "source": [
    "# Function For Any Given State/ Column"
   ]
  },
  {
   "cell_type": "code",
   "execution_count": null,
   "metadata": {},
   "outputs": [],
   "source": []
  },
  {
   "cell_type": "code",
   "execution_count": null,
   "metadata": {
    "ExecuteTime": {
     "end_time": "2021-09-09T15:00:38.532640Z",
     "start_time": "2021-09-09T14:59:53.500Z"
    }
   },
   "outputs": [],
   "source": [
    "state = \"NY\"\n",
    "col = 'Deaths'#'Hospitalized Currently'\n",
    "start_date='08-2020'\n",
    "remove_outliers=True\n",
    "threshold=100\n",
    "plot=True\n",
    "\n",
    "\n",
    "df_state = STATES[state].loc[start_date:].copy()\n",
    "df_state = df_state.resample('D').sum()\n",
    "ts = df_state[col].copy()\n",
    "ts.index.name='Datetime'\n",
    "\n",
    "# ts = ts.resample('D').asfreq()\n",
    "ts"
   ]
  },
  {
   "cell_type": "markdown",
   "metadata": {},
   "source": [
    "## **✔ TO DO: make remove_outliers into a helper function**"
   ]
  },
  {
   "cell_type": "markdown",
   "metadata": {},
   "source": [
    "```python\n",
    "## TO DO: make remove_outliers into a helper function\n",
    "if remove_outliers:\n",
    "    ## saving deltas \n",
    "    deltas  = ts.diff()\n",
    "\n",
    "    ## SSaving outleirs\n",
    "    outliers = deltas[deltas.abs()>threshold]\n",
    "\n",
    "\n",
    "    ## Filling in outliers\n",
    "    ts.loc[outliers.index] = np.nan\n",
    "    ts.interpolate(inplace=True)\n",
    "```\n"
   ]
  },
  {
   "cell_type": "code",
   "execution_count": null,
   "metadata": {
    "ExecuteTime": {
     "end_time": "2021-09-09T15:00:38.533640Z",
     "start_time": "2021-09-09T14:59:53.504Z"
    }
   },
   "outputs": [],
   "source": [
    "def remove_outliers_ts(ts,threshold_type='raw',threshold=100, n_diff=1):\n",
    "    ## saving deltas \n",
    "    deltas  = ts.diff(n_diff)\n",
    "    \n",
    "    \n",
    "    ## Criterion\n",
    "    if threshold_type=='raw':\n",
    "        idx_outliers = deltas.abs()>threshold\n",
    "        \n",
    "#     elif threshold_type :\n",
    "#         pass\n",
    "    else:\n",
    "        raise Exception(\"threshold_kinds are not yet implemented\")\n",
    "        pass\n",
    "    ## SSaving outleirs\n",
    "    outliers = deltas[idx_outliers]\n",
    "\n",
    "\n",
    "    ## Filling in outliers\n",
    "    ts.loc[outliers.index] = np.nan\n",
    "    ts_out = ts.interpolate()\n",
    "    \n",
    "    return ts_out\n",
    "     \n",
    "    \n"
   ]
  },
  {
   "cell_type": "code",
   "execution_count": null,
   "metadata": {
    "ExecuteTime": {
     "end_time": "2021-09-09T15:00:38.534598Z",
     "start_time": "2021-09-09T14:59:53.507Z"
    }
   },
   "outputs": [],
   "source": [
    "## test function\n",
    "ts = STATES['MD'].copy()\n",
    "ts.drop(['Deaths','Cases'],1).plot()"
   ]
  },
  {
   "cell_type": "code",
   "execution_count": null,
   "metadata": {
    "ExecuteTime": {
     "end_time": "2021-09-09T15:00:38.535658Z",
     "start_time": "2021-09-09T14:59:53.511Z"
    }
   },
   "outputs": [],
   "source": [
    "ts['Cases-New'].diff().plot()"
   ]
  },
  {
   "cell_type": "code",
   "execution_count": null,
   "metadata": {
    "ExecuteTime": {
     "end_time": "2021-09-09T15:00:38.536624Z",
     "start_time": "2021-09-09T14:59:53.514Z"
    }
   },
   "outputs": [],
   "source": [
    "def make_timeseries_model(STATES,state = \"MD\",col = 'Cases-New',\n",
    "                          start_date='08-2020',\n",
    "                         remove_outliers=True,threshold=100,\n",
    "                         plot=True):\n",
    "    ## Slicing out state df for index dates \n",
    "    df_state = STATES[state].loc[start_date:].copy()\n",
    "    df_state = df_state.resample('D').sum()\n",
    "    ts = df_state[col].copy()\n",
    "\n",
    "    ## Outlier removal \n",
    "    if remove_outliers:\n",
    "        ## saving deltas \n",
    "        deltas  = ts.diff()\n",
    "\n",
    "        ## SSaving outleirs\n",
    "        outliers = deltas[deltas.abs()>threshold]\n",
    "\n",
    "\n",
    "        ## Filling in outliers\n",
    "        ts.loc[outliers.index] = np.nan\n",
    "        ts.interpolate(inplace=True)\n",
    "    \n",
    "    if plot:\n",
    "        ax = ts.plot(title=f\"{state}-{col}\");\n",
    "        ax.set_ylabel(col)\n",
    "        display(ax.get_figure())\n",
    "        \n",
    "        \n",
    "\n",
    "    from pmdarima import auto_arima\n",
    "    train,test = fn.modeling.train_test_split_ts(ts,split_index=-30)\n",
    "    \n",
    "    auto_model = auto_arima(train,m=7,trace=True,D=1,\n",
    "                            start_p=0, start_q=0,\n",
    "                            start_P=0, start_Q=0)\n",
    "    display(auto_model.summary())\n",
    "        \n",
    "    model = tsa.SARIMAX(train, order=auto_model.order, \n",
    "                    seasonal_order =auto_model.seasonal_order,\n",
    "                    enforce_invertibility=False,\n",
    "                    enforce_stationarity=False, \n",
    "                    freq='D').fit()\n",
    "\n",
    "    fn.modeling.evaluate_model(model,train,test,last_n_lags=180)\n",
    "    \n",
    "    \n",
    "    model = tsa.SARIMAX(ts,order=auto_model.order, \n",
    "                    seasonal_order =auto_model.seasonal_order,\n",
    "                    enforce_invertibility=False,\n",
    "                    enforce_stationarity=False, \n",
    "                    freq='D').fit()\n",
    "    fn.modeling.diagnose_model(model)\n",
    "    fn.modeling.plot_forecast(model, ts)\n",
    "    \n",
    "    return ts, model\n",
    "    "
   ]
  },
  {
   "cell_type": "code",
   "execution_count": null,
   "metadata": {
    "ExecuteTime": {
     "end_time": "2021-09-09T15:00:38.537580Z",
     "start_time": "2021-09-09T14:59:53.518Z"
    }
   },
   "outputs": [],
   "source": [
    "STATES['NY']"
   ]
  },
  {
   "cell_type": "code",
   "execution_count": null,
   "metadata": {
    "ExecuteTime": {
     "end_time": "2021-09-09T15:00:38.538826Z",
     "start_time": "2021-09-09T14:59:53.521Z"
    },
    "scrolled": false
   },
   "outputs": [],
   "source": [
    "ts,model = make_timeseries_model(STATES,'NY','Hospitalized Currently')"
   ]
  },
  {
   "cell_type": "markdown",
   "metadata": {},
   "source": [
    "# `@interact`"
   ]
  },
  {
   "cell_type": "code",
   "execution_count": null,
   "metadata": {
    "ExecuteTime": {
     "end_time": "2021-09-09T15:00:38.539980Z",
     "start_time": "2021-09-09T14:59:53.524Z"
    },
    "scrolled": false
   },
   "outputs": [],
   "source": [
    "from ipywidgets import interact\n",
    "import datetime as dt\n",
    "\n",
    "@interact\n",
    "def get_model(state=list(STATES.keys()),\n",
    "             col=list(STATES['NY'].columns),model=False):\n",
    "    if model:\n",
    "        start = dt.datetime.now()\n",
    "        ts,model = make_timeseries_model(STATES,state,col)\n",
    "        end = dt.datetime.now()\n",
    "        print(f'Modeling Process took {end-start} sec.')"
   ]
  },
  {
   "cell_type": "markdown",
   "metadata": {},
   "source": [
    "# APPENDIX"
   ]
  },
  {
   "cell_type": "markdown",
   "metadata": {},
   "source": [
    "### `def` modeling functions"
   ]
  },
  {
   "cell_type": "code",
   "execution_count": null,
   "metadata": {
    "ExecuteTime": {
     "end_time": "2021-09-09T15:00:38.541062Z",
     "start_time": "2021-09-09T14:59:53.529Z"
    }
   },
   "outputs": [],
   "source": [
    "# def train_test_split_ts(ts,test_size=0.9,split_index=None):\n",
    "#     \"\"\"Uses test size by default, split_index overrides it\"\"\"\n",
    "#     if split_index is not None:\n",
    "#         tts_cutoff = split_index\n",
    "#     else:\n",
    "#         tts_cutoff = round(ts.shape[0]*0.9)\n",
    "#     fmt = \"%m-%d-%Y\"\n",
    "#     cutoff_time = ts.index[tts_cutoff]\n",
    "#     print(f\"Using a cutoff index of {tts_cutoff}, which = {cutoff_time.strftime(fmt)}\")\n",
    "    \n",
    "#       ## Use the tts cutoff to do Train test split and plot\n",
    "#     train = ts.iloc[:tts_cutoff]\n",
    "#     test = ts.iloc[tts_cutoff:]\n",
    "\n",
    "#     ## Plot\n",
    "#     ax = train.plot(label='train')\n",
    "#     test.plot(label='test')\n",
    "#     ax.legend()\n",
    "#     ax.set(ylabel=ts.name)\n",
    "#     ax.axvline(cutoff_time,color='k',ls=':',label=cutoff_time.strftime(fmt))\n",
    "#     ax.legend()\n",
    "#     ax.set_title(f\"Train Test Split for {ts.name}\")\n",
    "#     return train, test\n"
   ]
  },
  {
   "cell_type": "code",
   "execution_count": null,
   "metadata": {
    "ExecuteTime": {
     "end_time": "2021-09-09T15:00:38.542082Z",
     "start_time": "2021-09-09T14:59:53.532Z"
    },
    "code_folding": []
   },
   "outputs": [],
   "source": [
    "# ## funtionize diagnosing\n",
    "# def diagnose_model(model): #keep\n",
    "#     \"\"\"Takes a fit statsmodels model and displays the .summary \n",
    "#     and plots the built-in plot.diagnostics()\"\"\"\n",
    "#     display(model.summary())\n",
    "#     model.plot_diagnostics()\n",
    "#     plt.tight_layout()\n",
    "    \n",
    "    \n",
    "# def get_forecast(model,steps=14): #keep\n",
    "#     forecast = model.get_forecast(steps=steps)\n",
    "#     forecast_df = forecast.conf_int()\n",
    "#     forecast_df['Forecast'] = forecast.predicted_mean\n",
    "#     forecast_df.columns = ['Lower CI','Upper CI','Forecast']\n",
    "#     return forecast_df\n",
    "\n",
    "\n",
    "# def plot_forecast(forecast_df,ts,orig_label='True Data',\n",
    "#                   forecast_label='Forecast',\n",
    "#                   forecast_steps=30,\n",
    "#                   last_n_lags=None,figsize=(10,4)):\n",
    "#     \"\"\"Takes a forecast_df from get_df_from_pred and optionally \n",
    "#     the training/original time series.\n",
    "    \n",
    "#     Plots the original ts, the predicted mean and the \n",
    "#     confidence invtervals (using fill between)\"\"\"\n",
    "#     if not isinstance(forecast_df,pd.DataFrame):\n",
    "#         forecast_df = get_forecast(forecast_df,steps=forecast_steps)\n",
    "        \n",
    "#     fig,ax = plt.subplots(figsize=figsize)\n",
    "\n",
    "#     if last_n_lags is None:\n",
    "#         last_n_lags = len(ts)\n",
    "        \n",
    "#     ts.iloc[-last_n_lags:].plot(label='True Data')\n",
    "\n",
    "    \n",
    "#     forecast_df['Forecast'].plot(ax=ax,color='darkgreen',label=forecast_label)\n",
    "#     ax.fill_between(forecast_df.index,\n",
    "#                     forecast_df['Lower CI'], \n",
    "#                     forecast_df['Upper CI'],\n",
    "#                     color='lightgreen',alpha=0.5,lw=0.5,edgecolor='k')\n",
    "#     ax.set(title=f'Forecasted {ts.name}')\n",
    "#     sep = forecast_df.index[0]\n",
    "#     ax.axvline(sep,label=f\"Forecast Starts {sep.strftime('%m-%d-%y')}\",lw=1,ls=':',c='k')\n",
    "#     ax.legend()\n",
    "\n",
    "#     return fig,ax\n",
    "\n",
    "    \n",
    "# def evaluate_model(model,train,test,steps=None,last_n_lags=None):\n",
    "#     diagnose_model(model)\n",
    "    \n",
    "#     if steps is None:\n",
    "#         steps=len(test)\n",
    "        \n",
    "#     forecast_df = get_forecast(model,steps=len(test))\n",
    "#     fig, ax = plot_forecast(forecast_df,train,last_n_lags=last_n_lags)\n",
    "    \n",
    "#     test.plot(ax=ax,label='Test Data')\n",
    "#     ax.legend()\n",
    "#     return fig,ax\n",
    "           \n",
    " \n"
   ]
  }
 ],
 "metadata": {
  "colab": {
   "collapsed_sections": [],
   "name": "coronavirus/covid-19 forecasting.ipynb",
   "provenance": [],
   "toc_visible": true
  },
  "kernelspec": {
   "display_name": "Python (learn-env)",
   "language": "python",
   "name": "learn-env"
  },
  "language_info": {
   "codemirror_mode": {
    "name": "ipython",
    "version": 3
   },
   "file_extension": ".py",
   "mimetype": "text/x-python",
   "name": "python",
   "nbconvert_exporter": "python",
   "pygments_lexer": "ipython3",
   "version": "3.8.5"
  },
  "toc": {
   "base_numbering": 1,
   "nav_menu": {},
   "number_sections": true,
   "sideBar": true,
   "skip_h1_title": false,
   "title_cell": "Table of Contents",
   "title_sidebar": "Contents",
   "toc_cell": true,
   "toc_position": {
    "height": "calc(100% - 180px)",
    "left": "10px",
    "top": "150px",
    "width": "456.788px"
   },
   "toc_section_display": true,
   "toc_window_display": true
  }
 },
 "nbformat": 4,
 "nbformat_minor": 1
}
